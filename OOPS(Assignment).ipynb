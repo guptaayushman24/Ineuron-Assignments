{
 "cells": [
  {
   "cell_type": "code",
   "execution_count": null,
   "metadata": {},
   "outputs": [],
   "source": [
    "# List of the Questions:-\n",
    "## Assignments\n",
    "'''1. the `Person` class has a constructor that takes `name` and `age` as arguments and assigns them to the object's attributes. The `introduce` method is then invoked on the object to introduce the person.\n",
    "\n",
    "2. the `Car` class has a constructor that takes `brand` and `model` as arguments and assigns them to the object's attributes. The `display_info` method is then invoked on the object to display the car's brand and model.\n",
    "\n",
    "3. the `BankAccount` class has a constructor that takes `account_number` and `balance` as arguments and assigns them to the object's attributes. The `display_balance` method is then invoked on the object to display the account number and balance.\n",
    "\n",
    "4.  the `MobilePhone` class has a constructor that takes `brand` and `model` as arguments and assigns them to the object's attributes. The `make_call` method is then invoked on the object to make a call with the phone.\n",
    "\n",
    "5. the `Book` class has a constructor that takes `title` and `author` as arguments and assigns them to the object's attributes. The `display_info` method is then invoked on the object to display the book's title and author.\n",
    "\n",
    "6. Vehicles: Create a base class called Vehicle with attributes such as make, model, and year. Implement two subclasses Car and Motorcycle that inherit from Vehicle. Add additional methods to the subclasses, such as start_engine() and stop_engine(), and handle any specific behavior or rules for each vehicle type.\n",
    "\n",
    "7. Animals: Create a base class called Animal with methods such as eat() and sleep(). Implement two subclasses Dog and Cat that inherit from Animal. Add additional methods to the subclasses, such as bark() for dogs and meow() for cats, and handle any specific behavior or rules for each animal type.\n",
    "\n",
    "8. Library Catalog: Create a base class called LibraryItem with attributes such as title, author, and publication_year. Implement two subclasses Book and Magazine that inherit from LibraryItem. Add additional methods to the subclasses, such as checkout() and return_item(), and handle any specific behavior or rules for each item type.\n",
    "\n",
    "9. Employees and Departments: Create a base class called Employee with attributes such as name, salary, and department. Implement two subclasses Manager and Staff that inherit from Employee. Add additional methods to the subclasses, such as assign_task() for managers and attend_meeting() for staff members. Create a separate class called Department that contains a list of employees and methods to add or remove employees from the department.\n",
    "\n",
    "10. Bank Transactions: Create a base class called BankAccount with attributes such as account_number and balance. Implement subclasses for different types of accounts such as CheckingAccount and SavingsAccount that inherit from BankAccount. Add additional methods to the subclasses, such as withdraw() and deposit(), and handle any specific behavior or rules for each account type.\n",
    "\n",
    "11. School Management System: Create a base class called Person with attributes such as name, age, and address. Implement subclasses for different roles such as Student, Teacher, and Staff that inherit from Person. Add additional methods to the subclasses, such as take_exam() for students and teach_subject() for teachers.'''"
   ]
  },
  {
   "cell_type": "code",
   "execution_count": 5,
   "metadata": {},
   "outputs": [
    {
     "name": "stdout",
     "output_type": "stream",
     "text": [
      "The name of the person is Alice and the age is 34\n"
     ]
    }
   ],
   "source": [
    "# Question1:-\n",
    "class Person :\n",
    "    def __init__(self,name,age) :\n",
    "        self.name = name\n",
    "        self.age = age\n",
    "    \n",
    "    def intoduce(self) :\n",
    "        print(\"The name of the person is {} and the age is {}\".format(self.name,self.age))\n",
    "\n",
    "person1 = Person(\"Alice\",34)\n",
    "person1.intoduce()"
   ]
  },
  {
   "cell_type": "code",
   "execution_count": 6,
   "metadata": {},
   "outputs": [
    {
     "name": "stdout",
     "output_type": "stream",
     "text": [
      "Brand of the car is Mercedes and the model of the car is S\n"
     ]
    }
   ],
   "source": [
    "# QUestion2:-\n",
    "class Car :\n",
    "    def __init__(self,brand,model) :\n",
    "        self.brand = brand\n",
    "        self.model = model\n",
    "    \n",
    "    def display_info(self) :\n",
    "        print(\"Brand of the car is {} and the model of the car is {}\".format(self.brand,self.model))\n",
    "\n",
    "car1 = Car(\"Mercedes\",\"S\")\n",
    "car1.display_info()"
   ]
  },
  {
   "cell_type": "code",
   "execution_count": 7,
   "metadata": {},
   "outputs": [
    {
     "name": "stdout",
     "output_type": "stream",
     "text": [
      "Account number is 12345679 and the balcance is 250000\n"
     ]
    }
   ],
   "source": [
    "# Question3:-\n",
    "class BankAccount :\n",
    "    def __init__(self,acc_no,balance) :\n",
    "        self.acc_no = acc_no\n",
    "        self.balance = balance\n",
    "    \n",
    "    def dispaly_balance(self) :\n",
    "        print(\"Account number is {} and the balcance is {}\".format(self.acc_no,self.balance))\n",
    "\n",
    "bankaccount1 = BankAccount(12345679,250000)\n",
    "bankaccount1.dispaly_balance()    \n",
    "    \n"
   ]
  },
  {
   "cell_type": "code",
   "execution_count": 10,
   "metadata": {},
   "outputs": [
    {
     "name": "stdout",
     "output_type": "stream",
     "text": [
      "The brand name is Samsung and the Z model is making the call\n"
     ]
    }
   ],
   "source": [
    "# Question4:-\n",
    "class MobilePhone :\n",
    "    def __init__(self,brand,model) :\n",
    "        self.brand = brand\n",
    "        self.model = model\n",
    "    \n",
    "    def make_call(self) :\n",
    "        print(\"The brand name is {} and the {} model is making the call\".format(self.brand,self.model))\n",
    "\n",
    "mobilephone1 = MobilePhone(\"Samsung\",\"Z\")\n",
    "mobilephone1.make_call()"
   ]
  },
  {
   "cell_type": "code",
   "execution_count": 12,
   "metadata": {},
   "outputs": [
    {
     "name": "stdout",
     "output_type": "stream",
     "text": [
      "Name of the book is Rich Dad and Poor Dad and the author is Robert Kiyosaki and Sharon\n"
     ]
    }
   ],
   "source": [
    "# Question5:-\n",
    "class Book:\n",
    "    def __init__(self,name,author) :\n",
    "        self.name = name\n",
    "        self.author = author\n",
    "    \n",
    "    def display(self) :\n",
    "        print(\"Name of the book is {} and the author is {}\".format(self.name,self.author))\n",
    "    \n",
    "book1 = Book(\"Rich Dad and Poor Dad\",\"Robert Kiyosaki and Sharon\")\n",
    "book1.display()\n"
   ]
  },
  {
   "cell_type": "code",
   "execution_count": 2,
   "metadata": {},
   "outputs": [
    {
     "name": "stdout",
     "output_type": "stream",
     "text": [
      "The car made by Ford which has Echo Sport and the year of manufacture is 2020 is starting\n",
      "The car made by Ford which has Echo Sport and the year of manufacture is 2020 is stop\n",
      "The motorbike made by Pulsar which has 150 and the year of manufacture is 2021 is starting\n",
      "The motorbike made by Pulsar which has 150 and the year of manufacture is 2021 is stop\n"
     ]
    }
   ],
   "source": [
    "# Question6:-\n",
    "class Vehicle :\n",
    "    def __init__(self,make,model,year) :\n",
    "        self.make = make\n",
    "        self.model = model\n",
    "        self.year = year\n",
    "    \n",
    "    \n",
    "# Subclass Car\n",
    "class Car(Vehicle) :\n",
    "    def __init__(self,make,model,year) :\n",
    "        super().__init__(make,model,year)\n",
    "    def start_engine(self) :\n",
    "        print(\"The car made by {} which has {} and the year of manufacture is {} is starting\".format(self.make,self.model,self.year))\n",
    "    \n",
    "    def stop_engine(self) :\n",
    "        print(\"The car made by {} which has {} and the year of manufacture is {} is stop\".format(self.make,self.model,self.year))\n",
    "    \n",
    "car1 = Car(\"Ford\",\"Echo Sport\",2020)\n",
    "car1.start_engine()\n",
    "car1.stop_engine()\n",
    "#Subclass Motorbike\n",
    "class Motorbike(Vehicle) :\n",
    "    def __init__(self,make,model,year) :\n",
    "        super().__init__(make,model,year)\n",
    "    def start_engine(self) :\n",
    "        print(\"The motorbike made by {} which has {} and the year of manufacture is {} is starting\".format(self.make,self.model,self.year))\n",
    "    \n",
    "    def stop_engine(self) :\n",
    "        print(\"The motorbike made by {} which has {} and the year of manufacture is {} is stop\".format(self.make,self.model,self.year))\n",
    "\n",
    "motorbike1 = Motorbike(\"Pulsar\",\"150\",\"2021\")\n",
    "motorbike1.start_engine()\n",
    "motorbike1.stop_engine()\n",
    "\n"
   ]
  },
  {
   "cell_type": "code",
   "execution_count": 12,
   "metadata": {},
   "outputs": [
    {
     "name": "stdout",
     "output_type": "stream",
     "text": [
      "Dog is barkin Bhow Bhow\n",
      "Dog is eating now\n",
      "Dog1 is sleeping now\n",
      "Cat is doing meow Meeau Meeau\n",
      "Cat is eating now\n",
      "Cat1 is sleeping now\n"
     ]
    }
   ],
   "source": [
    "# Question7:-\n",
    "class Animal :\n",
    "    def __init__(self,eat,sleep) :\n",
    "        self.eat = eat\n",
    "        self.sleep = sleep\n",
    "    \n",
    "    def eat_animal(self) :\n",
    "        print(\"{} is eating now\".format(self.eat))\n",
    "    \n",
    "    def sleep_animal(self) :\n",
    "        print(\"{} is sleeping now\".format(self.sleep))\n",
    "\n",
    "# Dog class inheriting from the animal class\n",
    "class Dog(Animal) :\n",
    "    def __init__(self,eat,sleep,bark) :\n",
    "        self.bark = bark\n",
    "        super().__init__(eat,sleep)\n",
    "    def print_dog(self) :\n",
    "        print(\"Dog is barkin {}\".format(self.bark))\n",
    "        super().eat_animal()\n",
    "        super().sleep_animal()\n",
    "dog1 = Dog(\"Dog\",\"Dog1\",\"Bhow Bhow\")\n",
    "dog1.print_dog()\n",
    "\n",
    "# Cat class inheriting from the animal class\n",
    "class Cat(Animal) :\n",
    "    def __init__(self,eat,sleep,meow) :\n",
    "        self.meow = meow\n",
    "        super().__init__(eat,sleep)\n",
    "        \n",
    "    def print_cat(self) :\n",
    "        print(\"Cat is doing meow {}\".format(self.meow))\n",
    "        super().eat_animal()\n",
    "        super().sleep_animal()\n",
    "cat1 = Cat(\"Cat\",\"Cat1\",\"Meeau Meeau\")\n",
    "cat1.print_cat()"
   ]
  },
  {
   "cell_type": "code",
   "execution_count": 44,
   "metadata": {},
   "outputs": [
    {
     "name": "stdout",
     "output_type": "stream",
     "text": [
      "The list of the books are ['a', 'b', 'c', 'd', 'e', 'a']\n"
     ]
    }
   ],
   "source": [
    "# Question8:-\n",
    "class Library :\n",
    "    def __init__(self ,author,publ_year) :\n",
    "        self.author = author\n",
    "        self.publ_year = publ_year\n",
    "        \n",
    "\n",
    "# Create the list in which there is the name of the books are available at the time of the checkout pop the item from the list and at the time of the return of the book the book should not present in the list and once the process get over again add the book in the list\n",
    "class Book(Library) :\n",
    "    def __init__(self,book,author,publ_year) :\n",
    "        self.book = book\n",
    "        super().__init__(author,publ_year)\n",
    "\n",
    "    def print_book(self) :\n",
    "        print(\"The list of the books are {}\".format(self.book))\n",
    "\n",
    "    def checkout(self) :\n",
    "        str = input(\"Enter the name of the book for the checkout\")\n",
    "        flag=0\n",
    "        for books in self.book :\n",
    "            if (str==books) :\n",
    "                flag=1\n",
    "\n",
    "        if (flag==1) :\n",
    "            print(\"{} book is available currently\".format(str))\n",
    "            self.book.remove(str)\n",
    "        else :\n",
    "            print(\"{} book is not available currently\".format(str))\n",
    "\n",
    "    def return_item(self) :\n",
    "        str = input(\"Enter the name of the book which you want to return\")\n",
    "        if (str!='a' and str!='b' and str!='c' and str!='d' and str!='e') :\n",
    "            print(\"You are returning the differnt book\")\n",
    "        else :\n",
    "            book.append(str)\n",
    "book = ['a','b','c','d','e'] \n",
    "book1 = Book(book ,\"Alice\",2012)\n",
    "# Checking for the checkout function\n",
    "book1.checkout()\n",
    "book1.checkout()\n",
    "\n",
    "book1.return_item()\n",
    "book1.print_book()\n"
   ]
  },
  {
   "cell_type": "code",
   "execution_count": 49,
   "metadata": {},
   "outputs": [
    {
     "name": "stdout",
     "output_type": "stream",
     "text": [
      "Maneger has assign the task to the Alice which belongs to the department IT \n",
      "Salary of the person is 1234\n",
      "Alice has to attend the meeting which bleongs to the department IT\n",
      "['e1', 'e2', 'e3', 'e4', 'e5', 'e8']\n",
      "['e1', 'e2', 'e3', 'e5', 'e8']\n"
     ]
    }
   ],
   "source": [
    "# Question9:-\n",
    "class Employee :\n",
    "    def __init__(self,name,salary,dept) :\n",
    "        self.name = name\n",
    "        self.salary = salary\n",
    "        self.dept = dept\n",
    "    \n",
    "class Manager(Employee) :\n",
    "    def __init__(self,name,salay,dept) :\n",
    "        super().__init__(name,salay,dept)\n",
    "    def assign_task(self) :\n",
    "        print(\"Maneger has assign the task to the {} which belongs to the department {} \".format(self.name,self.dept))\n",
    "        print(\"Salary of the person is {}\".format(self.salary))\n",
    "\n",
    "manager1 = Manager(\"Alice\",1234,\"IT\")\n",
    "manager1.assign_task()\n",
    "  \n",
    "\n",
    "class Staff(Employee) :\n",
    "    def __init__(self,name,salary,dept) :\n",
    "        super().__init__(name,salary,dept)\n",
    "    def attend_meeting(self) :\n",
    "        print(\"{} has to attend the meeting which bleongs to the department {}\".format(self.name,self.dept))\n",
    "\n",
    "staff1 = Staff(\"Alice\",\"\",\"IT\")\n",
    "staff1.attend_meeting()\n",
    "\n",
    "lst=['e1','e2','e3','e4','e5']\n",
    "class Department() :\n",
    "    def __init__(self,lst) :\n",
    "        self.lst = lst\n",
    "    def add_emp(self) :\n",
    "        emp = input(\"Enter the name of the employee\")\n",
    "        flag=0\n",
    "        for i in self.lst :\n",
    "            if (i==emp) :\n",
    "                flag=1\n",
    "            \n",
    "        if (flag==0) :\n",
    "            self.lst.append(emp)\n",
    "        \n",
    "    def print_lst(self) :\n",
    "        print(self.lst)\n",
    "\n",
    "    def remove_emp(self) :\n",
    "        emp = input(\"Enter the name of the employee\")\n",
    "        flag=0\n",
    "        for i in self.lst :\n",
    "            if (i==emp) :\n",
    "                flag=1\n",
    "            \n",
    "        if (flag==1) :\n",
    "            self.lst.remove(emp)\n",
    "        \n",
    "    def print_lst(self) :\n",
    "        print(self.lst)\n",
    "        \n",
    "department1 = Department(lst)\n",
    "# Here we are adding the employee\n",
    "department1.add_emp()\n",
    "department1.print_lst()\n",
    "# Here we are removing the employee\n",
    "department1.remove_emp()\n",
    "department1.print_lst()\n"
   ]
  },
  {
   "cell_type": "markdown",
   "metadata": {},
   "source": []
  },
  {
   "cell_type": "code",
   "execution_count": 62,
   "metadata": {},
   "outputs": [
    {
     "name": "stdout",
     "output_type": "stream",
     "text": [
      "You are using Saving Account\n",
      "500 Rs is deposited in the account which has account number 479845\n",
      "Final balance after deposit of money is 10500\n",
      "500 Rs have been debited from the account number 479845\n",
      "Final balance after withdraw of money is 10000\n"
     ]
    }
   ],
   "source": [
    "# Question10:-\n",
    "class BankAccount :\n",
    "    def __init__(self,accno,balance) :\n",
    "        self.accno = accno\n",
    "        self.balance = balance\n",
    "\n",
    "class CheckingAccount(BankAccount) :\n",
    "    def __init__(self,accno,balance) :\n",
    "        super().__init__(accno,balance)\n",
    "    \n",
    "    def message(self) :\n",
    "        print(\"You are using Checking Account\")\n",
    "\n",
    "    def deposit(self) :\n",
    "        deposit = int(input(\"Enter the amount to be deposited\"))\n",
    "        print(\"{} Rs is deposited in the account which has account number {}\".format(deposit,self.accno))\n",
    "        self.balance = self.balance+deposit\n",
    "        print(\"Final balance after deposit of money is {}\".format(self.balance))\n",
    "\n",
    "    def withdraw (self) :\n",
    "        amount = int(input(\"Enter the amount to be withdraw\"))\n",
    "        if (amount>self.balance) :\n",
    "            print(\"You do not have sufficent amount\")\n",
    "        else :\n",
    "            print(\"{} Rs have been debited from the account number {}\".format(amount,self.accno))\n",
    "            self.balance = self.balance-amount\n",
    "            print(\"Final balance after withdraw of money is {}\".format(self.balance))\n",
    "\n",
    "class SavingAccount(BankAccount) :\n",
    "    def message(self):\n",
    "        print(\"You are using Saving Account\")\n",
    "\n",
    "    def deposit(self) :\n",
    "        deposit = int(input(\"Enter the amount to be deposited\"))\n",
    "        print(\"{} Rs is deposited in the account which has account number {}\".format(deposit,self.accno))\n",
    "        self.balance = self.balance+deposit\n",
    "        print(\"Final balance after deposit of money is {}\".format(self.balance))\n",
    "\n",
    "    \n",
    "    def withdraw (self) :\n",
    "        amount = int(input(\"Enter the amount to be withdraw\"))\n",
    "        if (amount>self.balance) :\n",
    "            print(\"You do not have sufficent amount\")\n",
    "        else :\n",
    "            print(\"{} Rs have been debited from the account number {}\".format(amount,self.accno))\n",
    "            self.balance = self.balance-amount\n",
    "            print(\"Final balance after withdraw of money is {}\".format(self.balance))\n",
    "    \n",
    "chk1 = CheckingAccount(\"12345644\",5000)\n",
    "chk1.message()\n",
    "chk1.deposit()\n",
    "chk1.withdraw()\n",
    "\n",
    "sava1 = SavingAccount(\"479845\",10000)\n",
    "sava1.message()\n",
    "sava1.deposit()\n",
    "sava1.withdraw()\n",
    "    "
   ]
  },
  {
   "cell_type": "markdown",
   "metadata": {},
   "source": []
  },
  {
   "cell_type": "markdown",
   "metadata": {},
   "source": []
  },
  {
   "cell_type": "code",
   "execution_count": 78,
   "metadata": {},
   "outputs": [
    {
     "name": "stdout",
     "output_type": "stream",
     "text": [
      "Student are giving the exams\n",
      "Teacher are taking the exams\n"
     ]
    }
   ],
   "source": [
    "# Question11:-\n",
    "class Person() :\n",
    "    def __init__(self,name,age,address) :\n",
    "        self.name = name\n",
    "        self.age = age\n",
    "        self.address = address\n",
    "\n",
    "\n",
    "class Student(Person) :\n",
    "    def __init__(self,name,age,address) :\n",
    "        super().__init__(name,age,address)\n",
    "    def take_exam(self) :\n",
    "        print(\"Student are giving the exams\")\n",
    "\n",
    "student1 = Student(\"Alice\",\"\",\"\")\n",
    "student1.take_exam()\n",
    "\n",
    "class Teacher(Person) :\n",
    "    def __init__(self,name,age,address) :\n",
    "        super().__init__(name,age,address)\n",
    "    def take_exam(self) :\n",
    "        print(\"Teacher are taking the exams\")\n",
    "\n",
    "teacher1 = Teacher(\"Jack\",\"\",\"\")\n",
    "teacher1.take_exam()\n",
    "\n",
    "\n"
   ]
  },
  {
   "cell_type": "code",
   "execution_count": null,
   "metadata": {},
   "outputs": [],
   "source": []
  }
 ],
 "metadata": {
  "kernelspec": {
   "display_name": "Python 3",
   "language": "python",
   "name": "python3"
  },
  "language_info": {
   "codemirror_mode": {
    "name": "ipython",
    "version": 3
   },
   "file_extension": ".py",
   "mimetype": "text/x-python",
   "name": "python",
   "nbconvert_exporter": "python",
   "pygments_lexer": "ipython3",
   "version": "3.11.4"
  },
  "orig_nbformat": 4
 },
 "nbformat": 4,
 "nbformat_minor": 2
}
