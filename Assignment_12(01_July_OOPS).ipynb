{
 "cells": [
  {
   "cell_type": "code",
   "execution_count": 1,
   "metadata": {},
   "outputs": [
    {
     "data": {
      "text/plain": [
       "'Solution:- To reuse the child class to use the properties of the  base class\\nTo hold the entire data into a single object such thaty it would be easy to pass this to the other method '"
      ]
     },
     "execution_count": 1,
     "metadata": {},
     "output_type": "execute_result"
    }
   ],
   "source": [
    "# Q1:- What is the primary goal of Object-Oriented Programming (OOP)? \n",
    "'''Solution:- To reuse the child class to use the properties of the  base class\n",
    "To hold the entire data into a single object such thaty it would be easy to pass this to the other method '''"
   ]
  },
  {
   "cell_type": "code",
   "execution_count": 2,
   "metadata": {},
   "outputs": [
    {
     "data": {
      "text/plain": [
       "'Solution:- Objects are instances of a class with specifically defined data\\n '"
      ]
     },
     "execution_count": 2,
     "metadata": {},
     "output_type": "execute_result"
    }
   ],
   "source": [
    "#Q2:- What is an object in Python? \n",
    "'''Solution:- Objects are instances of a class with specifically defined data '''\n"
   ]
  },
  {
   "cell_type": "code",
   "execution_count": 3,
   "metadata": {},
   "outputs": [
    {
     "data": {
      "text/plain": [
       "'Solution:- User-defined blueprint or prototype from which objects are created'"
      ]
     },
     "execution_count": 3,
     "metadata": {},
     "output_type": "execute_result"
    }
   ],
   "source": [
    "#Q3:- What is a class in Python? \n",
    "'''Solution:- User-defined blueprint or prototype from which objects are created'''\n"
   ]
  },
  {
   "cell_type": "code",
   "execution_count": 4,
   "metadata": {},
   "outputs": [
    {
     "data": {
      "text/plain": [
       "'Solution:- Any variable that is bound in a class is attribute.Any function which is defined in the class is known as method'"
      ]
     },
     "execution_count": 4,
     "metadata": {},
     "output_type": "execute_result"
    }
   ],
   "source": [
    "#Q4:-What are attributes and methods in a class? \n",
    "'''Solution:- Any variable that is bound in a class is attribute.Any function which is defined in the class is known as method'''\n"
   ]
  },
  {
   "cell_type": "code",
   "execution_count": 5,
   "metadata": {},
   "outputs": [
    {
     "data": {
      "text/plain": [
       "'Solution:- Class Variable-> Class variables are defined within the class but outside of any class methods.\\nClass variables are useful for storing data that is shared among all instances of a class, such as constants or default values.\\nInstance Variable-> Instance variables are defined within class methods, typically the constructor.\\nInstance variables are used to store data that is unique to each instance of a class, such as object properties.'"
      ]
     },
     "execution_count": 5,
     "metadata": {},
     "output_type": "execute_result"
    }
   ],
   "source": [
    "#Q5:- What is the difference between class variables and instance variables in Python? \n",
    "'''Solution:- Class Variable-> Class variables are defined within the class but outside of any class methods.\n",
    "Class variables are useful for storing data that is shared among all instances of a class, such as constants or default values.\n",
    "Instance Variable-> Instance variables are defined within class methods, typically the constructor.\n",
    "Instance variables are used to store data that is unique to each instance of a class, such as object properties.'''"
   ]
  },
  {
   "cell_type": "code",
   "execution_count": 6,
   "metadata": {},
   "outputs": [
    {
     "data": {
      "text/plain": [
       "'Solution:- Self parameter is used to initialize the instance variable of the class\\nWhen we use the self variable in the method the we can use all the instance variable in the method'"
      ]
     },
     "execution_count": 6,
     "metadata": {},
     "output_type": "execute_result"
    }
   ],
   "source": [
    "# Q6:-What is the purpose of the self parameter in Python class methods?\n",
    "'''Solution:- Self parameter is used to initialize the instance variable of the class\n",
    "When we use the self variable in the method the we can use all the instance variable in the method'''"
   ]
  },
  {
   "cell_type": "code",
   "execution_count": 48,
   "metadata": {},
   "outputs": [
    {
     "name": "stdout",
     "output_type": "stream",
     "text": [
      "Currently 9 copies are the available for the checkout for the book Rich Dad Poor Dad\n",
      "Currently 10 copies are the available for the checkout for the book Rich Dad Poor Dad\n",
      "Title of the book is Rich Dad Poor Dad\n",
      "Author of the book is Robert Kiyosaki and Sharon Lechter\n",
      "Isbn number of the book is 123456\n",
      "Publication year of the book is 2008\n",
      "Number of the available copies of the book is 10\n"
     ]
    }
   ],
   "source": [
    "# Question7:-\n",
    "class Book() :\n",
    "    def __init__(self,title,author,isbn,publ_year,avl_copies) :\n",
    "        self.title = title\n",
    "        self.author = author\n",
    "        self.isbn = isbn\n",
    "        self.publ_year = publ_year\n",
    "        self.avl_copies = avl_copies\n",
    "\n",
    "    def check_out(self) :\n",
    "        if (self.avl_copies<=0) :\n",
    "            print(\"No copies are available for the checkout for the book {}\".format(self.title))\n",
    "        else :\n",
    "            self.avl_copies-=1\n",
    "            print(\"Currently {} copies are the available for the checkout for the book {}\".format(self.avl_copies,self.title))\n",
    "\n",
    "    def return_book(self) :\n",
    "        self.avl_copies+=1\n",
    "        print(\"Currently {} copies are the available for the checkout for the book {}\".format(self.avl_copies,self.title))\n",
    "\n",
    "    def displa_book_info(self) :\n",
    "        print(\"Title of the book is {}\".format(self.title))\n",
    "        print(\"Author of the book is {}\".format(self.author))\n",
    "        print(\"Isbn number of the book is {}\".format(self.isbn))\n",
    "        print(\"Publication year of the book is {}\".format(self.publ_year))\n",
    "        print(\"Number of the available copies of the book is {}\".format(self.avl_copies))\n",
    "\n",
    "book1 = Book(\"Rich Dad Poor Dad\",\"Robert Kiyosaki and Sharon Lechter\",123456,\"2008\",10)\n",
    "book1.check_out()\n",
    "book1.return_book()\n",
    "book1.displa_book_info()"
   ]
  },
  {
   "cell_type": "code",
   "execution_count": 47,
   "metadata": {},
   "outputs": [
    {
     "name": "stdout",
     "output_type": "stream",
     "text": [
      "You ticket is already reserved which has ticket id t1234\n",
      "Ticket id is t1234\n",
      "Name of the event is Data Science\n",
      "Date of the event is 05/08/2023\n",
      "Venue of the event is London\n",
      "Seat number for attending the event is 25\n",
      "Price of the event is 1000\n",
      "Yes seat is reserved\n",
      "Your ticket which has ticket ID t1234 has been cancelled\n",
      "You ticket is not reserved\n",
      "There is no ticket\n",
      "Your ticket is not reserved for the ticket id t2589\n"
     ]
    }
   ],
   "source": [
    "# Question8:-\n",
    "class Ticket :\n",
    "    def __init__(self,ticket_id, event_name,event_date,venue,seat_number,price,is_reserved) :\n",
    "        self.ticket_id = ticket_id\n",
    "        self.event_name = event_name\n",
    "        self.event_date = event_date\n",
    "        self.venue = venue\n",
    "        self.seat_number = seat_number\n",
    "        self.price = price\n",
    "        self.is_reserved = is_reserved\n",
    "\n",
    "    def reserve_ticket(self) :\n",
    "       if (self.is_reserved==\"Yes\") :\n",
    "           print(\"You ticket is already reserved which has ticket id {}\".format(self.ticket_id))\n",
    "       else :\n",
    "           print(\"You ticket is not reserved\")\n",
    "    \n",
    "    def cancel_reservation(self) :\n",
    "        if (self.is_reserved==\"Yes\") :\n",
    "            print(\"Your ticket which has ticket ID {} has been cancelled\".format(self.ticket_id))\n",
    "        else :\n",
    "            print(\"There is no ticket\")\n",
    "    def display_details(self) :\n",
    "        if (self.is_reserved==\"Yes\") :\n",
    "            print(\"Ticket id is {}\".format(self.ticket_id))\n",
    "            print(\"Name of the event is {}\".format(self.event_name))\n",
    "            print(\"Date of the event is {}\".format(self.event_date))\n",
    "            print(\"Venue of the event is {}\".format(self.venue))\n",
    "            print(\"Seat number for attending the event is {}\".format(self.seat_number))\n",
    "            print(\"Price of the event is {}\".format(self.price))\n",
    "            print(\"{} seat is reserved\".format(self.is_reserved))\n",
    "        else :\n",
    "            print(\"Your ticket is not reserved for the ticket id {}\".format(self.ticket_id))\n",
    "\n",
    "\n",
    "        \n",
    "\n",
    "ticket1 = Ticket(\"t1234\",\"Data Science\",\"05/08/2023\",\"London\",\"25\",1000,\"Yes\")\n",
    "ticket1.reserve_ticket()\n",
    "ticket1.display_details()\n",
    "ticket1.cancel_reservation()\n",
    "\n",
    "ticket2 = Ticket(\"t2589\",\"Web Development\",\"15/02/2023\",\"Germany\",\"89\",\"600\",\"No\")\n",
    "ticket2.reserve_ticket()\n",
    "ticket2.cancel_reservation()\n",
    "ticket2.display_details()"
   ]
  },
  {
   "cell_type": "code",
   "execution_count": 26,
   "metadata": {},
   "outputs": [
    {
     "name": "stdout",
     "output_type": "stream",
     "text": [
      "Printing the cart items after adding the items in the cart\n",
      "['Laptop', 'Tablet', 'Airdopes', 'Phone']\n",
      "Printing the cart items after removing the items from the cart\n",
      "['Laptop', 'Airdopes', 'Phone']\n",
      "Clearing all the items from the cart \n",
      "[]\n"
     ]
    }
   ],
   "source": [
    "# Question9:- \n",
    "class ShoppingCart() :\n",
    "    def __init__(self,lst) :\n",
    "        self.lst = lst\n",
    "\n",
    "    def add_item(self) :\n",
    "        str = input(\"For adding type Yes else type No\")\n",
    "        while (str!=\"No\") :\n",
    "            item = input()\n",
    "            if (item==\"No\") :\n",
    "                break\n",
    "            self.lst.append(item)\n",
    "    \n",
    "    def view_cart(self) :\n",
    "        print(self.lst)\n",
    "    \n",
    "    def remove_item(self) :\n",
    "         str = input(\"Type No if you don't want to remove the item\")\n",
    "         while (str!=\"No\" or len(self.lst)>0) :\n",
    "            if (str==\"No\") :\n",
    "                break\n",
    "            else :\n",
    "                item = input(\"Enter the item to be removed\")\n",
    "                flag=0\n",
    "                for i in self.lst :\n",
    "                    if (i==item) :\n",
    "                        flag=1\n",
    "                if (flag==1) :\n",
    "                    self.lst.remove(item)\n",
    "                else :\n",
    "                    print(\"There is no item {} in the list\".format(str))\n",
    "                \n",
    "            str = input(\"Type No if you don't want to remove the item\")\n",
    "\n",
    "    def clear_cart(self) :\n",
    "        if (len(self.lst)==0) :\n",
    "            print(\"Cart is already empty\")\n",
    "        else :\n",
    "            self.lst.clear()\n",
    "    \n",
    "        \n",
    "\n",
    "\n",
    "                \n",
    "\n",
    "shopping1 = ShoppingCart([])\n",
    "shopping1.add_item()\n",
    "print(\"Printing the cart items after adding the items in the cart\")\n",
    "shopping1.view_cart()\n",
    "shopping1.remove_item()\n",
    "print(\"Printing the cart items after removing the items from the cart\")\n",
    "shopping1.view_cart()\n",
    "print(\"Clearing all the items from the cart \")\n",
    "shopping1.clear_cart()\n",
    "shopping1.view_cart()"
   ]
  },
  {
   "cell_type": "code",
   "execution_count": 38,
   "metadata": {},
   "outputs": [
    {
     "name": "stdout",
     "output_type": "stream",
     "text": [
      "Student record of the alice is ['P', 'P', 'P', 'P', 'A', 'A']\n",
      "Alice has the 66.66666666666666 attendance\n"
     ]
    }
   ],
   "source": [
    "# Question10:-\n",
    "class Student() :\n",
    "    def __init__(self,name,age,grade,student_id,attendance) :\n",
    "        self.name = name\n",
    "        self.age = age\n",
    "        self.grade = grade\n",
    "        self.student_id = student_id\n",
    "        self.attendance = attendance\n",
    "\n",
    "    def update_attendance(self) :\n",
    "        while (True) :\n",
    "            date = input(\"Enter the date for the attendance\")\n",
    "            if (date==\"Ok\") :\n",
    "                break\n",
    "            else :\n",
    "                str = input(\"Type Yes if student is present\")\n",
    "                if (str==\"Yes\") :\n",
    "                    self.attendance.append(\"P\")\n",
    "                elif (str==\"No\") :\n",
    "                    self.attendance.append(\"A\")\n",
    "            \n",
    "    def get_attendance(self) :\n",
    "       print(\"Student record of the alice is {}\".format(self.attendance))\n",
    "\n",
    "    def get_average_attendance(self) :\n",
    "        if (len(self.attendance)==0) :\n",
    "            print(\"No attendace is taken now\")\n",
    "        else :\n",
    "            count=0\n",
    "            for i in self.attendance :\n",
    "                if (i==\"P\") :\n",
    "                    count+=1\n",
    "            percentage = ((count)/(len(self.attendance)))*100\n",
    "            print(\"{} has the {} attendance\".format(self.name,percentage))\n",
    "student1 = Student(\"Alice\",15,\"8th\",\"s1\",[])\n",
    "student1.update_attendance()\n",
    "student1.get_attendance()\n",
    "student1.get_average_attendance()"
   ]
  }
 ],
 "metadata": {
  "kernelspec": {
   "display_name": "Python 3",
   "language": "python",
   "name": "python3"
  },
  "language_info": {
   "codemirror_mode": {
    "name": "ipython",
    "version": 3
   },
   "file_extension": ".py",
   "mimetype": "text/x-python",
   "name": "python",
   "nbconvert_exporter": "python",
   "pygments_lexer": "ipython3",
   "version": "3.11.4"
  },
  "orig_nbformat": 4
 },
 "nbformat": 4,
 "nbformat_minor": 2
}
