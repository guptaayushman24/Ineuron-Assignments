{
 "cells": [
  {
   "cell_type": "code",
   "execution_count": 6,
   "metadata": {},
   "outputs": [],
   "source": [
    "#Q1:- Explain what inheritance is in object-oriented programming and why it is used.\n",
    "# Solution:- When one class uses the another class properties then it is known as inheritence"
   ]
  },
  {
   "cell_type": "code",
   "execution_count": 7,
   "metadata": {},
   "outputs": [],
   "source": [
    "#Q2:- Discuss the concept of single inheritance and multiple inheritance, highlighting their differences and advantages. \n",
    "# Solution:- Single Inheritence-> Single inheritance enables a derived class to inherit properties from a single parent class, thus enabling code reusability and the addition of new features to existing code.\n",
    "\n",
    "# Multiple Inheritence-> When a class can be derived from more than one base class this type of inheritance is called multiple inheritances. In multiple inheritances, all the features of the base classes are inherited into the derived class. \n",
    "\n"
   ]
  },
  {
   "cell_type": "code",
   "execution_count": 8,
   "metadata": {},
   "outputs": [],
   "source": [
    "#Q3:- Explain the terms \"base class\" and \"derived class\" in the context of inheritance. \n",
    "# Solution:- Base class is the parent class and derived class is the class which inherit from the base class or parent class\n"
   ]
  },
  {
   "cell_type": "code",
   "execution_count": 9,
   "metadata": {},
   "outputs": [],
   "source": [
    "# Q4:-What is the significance of the \"protected\" access modifier in inheritance? How does it differ from \"private\" and \"public\" modifiers? \n",
    "# Solution:- Protected Access Modifier-> The member of the class which is defined as the protected only accessible to that class which is derived from the parent class\n",
    "            # Public Access Modifier-> The member of the class which is defined as the public are accessable from any part of the programme\n",
    "            # Public Access Modifier-> The member of the class which is defined as the private are accessable only to that class only it can't be access from the other part of the programme\n",
    "\n"
   ]
  },
  {
   "cell_type": "code",
   "execution_count": 10,
   "metadata": {},
   "outputs": [
    {
     "name": "stdout",
     "output_type": "stream",
     "text": [
      "Name of the student is Alice\n"
     ]
    }
   ],
   "source": [
    "# Q5:- What is the purpose of the \"super\" keyword in inheritance? Provide an example.\n",
    "# Solution:- When any class inherit the base class then when we want to use the member of the base class then we use the super() keyword\n",
    "# Example:-\n",
    "class Person() :\n",
    "    def __init__(self,name) :\n",
    "        self.name = name\n",
    "    def print_name(self) :\n",
    "        print(\"Name of the student is {}\".format(self.name))\n",
    "\n",
    "class Student(Person) :\n",
    "    def __init__(self,name) :\n",
    "        super().__init__(name)\n",
    "\n",
    "    def print_detail(self) :\n",
    "        super().print_name()\n",
    "    \n",
    "student1 = Student(\"Alice\")\n",
    "student1.print_detail()"
   ]
  },
  {
   "cell_type": "code",
   "execution_count": 11,
   "metadata": {},
   "outputs": [
    {
     "name": "stdout",
     "output_type": "stream",
     "text": [
      "Car is of Petrol\n",
      "The car is manufacture by BMW and the model is S and year of manufacture is 2020\n"
     ]
    }
   ],
   "source": [
    "#Q6:- Create a base class called \"Vehicle\" with attributes like \"make\", \"model\", and \"year\". Then, create a derived class called \"Car\" that inherits from \"Vehicle\" and adds an attribute called \"fuel_type\". Implement appropriate methods in both classes. \n",
    "#Solution:-\n",
    "class Vehicle() :\n",
    "    def __init__(self,make,model,year) :\n",
    "        self.make = make\n",
    "        self.model = model\n",
    "        self.year = year\n",
    "\n",
    "    def detail(self) :\n",
    "        print(\"The car is manufacture by {} and the model is {} and year of manufacture is {}\".format(self.make,self.model,self.year))\n",
    "class Car(Vehicle) :\n",
    "    def __init__(self,make,model,year,fuel_type) :\n",
    "        self.fuel_type = fuel_type\n",
    "        super().__init__(make,model,year)\n",
    "    \n",
    "    def car_details(self) :\n",
    "        print(\"Car is of {}\".format(self.fuel_type))\n",
    "        super().detail()\n",
    "\n",
    "car1 = Car(\"BMW\",\"S\",\"2020\",\"Petrol\")\n",
    "car1.car_details()\n"
   ]
  },
  {
   "cell_type": "code",
   "execution_count": 12,
   "metadata": {},
   "outputs": [
    {
     "name": "stdout",
     "output_type": "stream",
     "text": [
      "Name of the manager is Alice and the salary of the manager is 1000000 and the manager Alice belongs to the IT department\n",
      "Name of the developer is John and the salary of the developer is 250000 and the developer John writes the Python programming language\n"
     ]
    }
   ],
   "source": [
    "#Q7:- Create a base class called \"Employee\" with attributes like \"name\" and \"salary.\" Derive two classes, \"Manager\" and \"Developer,\" from \"Employee.\" Add an additional attribute called \"department\" for the \"Manager\" class and \"programming_language\" for the \"Developer\" class. \n",
    "#Solution:-\n",
    "class Employee() :\n",
    "    def __init__(self,name,salary) :\n",
    "        self.name = name\n",
    "        self.salary = salary\n",
    "\n",
    "class Manager(Employee) :\n",
    "    def __init__(self,name,salary,department) :\n",
    "        self.department = department\n",
    "        super().__init__(name,salary)\n",
    "\n",
    "    def print_detail_manager(self) :\n",
    "        print(\"Name of the manager is {} and the salary of the manager is {} and the manager {} belongs to the {} department\".format(self.name,self.salary,self.name,self.department))\n",
    "        \n",
    "\n",
    "class Developer(Employee) :\n",
    "    def __init__(self,name,salary,programming_language) :\n",
    "        self.programming_language = programming_language\n",
    "        super().__init__(name,salary)\n",
    "\n",
    "    def developer_details(self) :\n",
    "        print(\"Name of the developer is {} and the salary of the developer is {} and the developer {} writes the {} programming language\".format(self.name,self.salary,self.name,self.programming_language))\n",
    "\n",
    "# Creating the object of the Manager class\n",
    "manager1 = Manager(\"Alice\",\"1000000\",\"IT\")\n",
    "manager1.print_detail_manager()\n",
    "# Creating the object of the Developer class\n",
    "developer1 = Developer(\"John\",\"250000\",\"Python\")\n",
    "developer1.developer_details()"
   ]
  },
  {
   "cell_type": "code",
   "execution_count": 13,
   "metadata": {},
   "outputs": [
    {
     "name": "stdout",
     "output_type": "stream",
     "text": [
      "Color of the rectangle is Blue and the width of the border is 0.5\n",
      "Area of the rectangle is 16\n",
      "Color of the square is Red\n",
      "Area of the circle is 314.0\n"
     ]
    }
   ],
   "source": [
    "#Q8:- Design a base class called \"Shape\" with attributes like \"colour\" and \"border_width.\" Create derived classes, \"Rectangle\" and \"Circle,\" that inherit from \"Shape\" and add specific attributes like \"length\" and \"width\" for the \"Rectangle\" class and \"radius\" for the \"Circle\" class.\n",
    "#Solution:-\n",
    "class Shape :\n",
    "    def __init__(self,color,border_width) :\n",
    "        self.color = color\n",
    "        self.border_width = border_width\n",
    "\n",
    "class Rectangle(Shape) :\n",
    "    def __init__(self,length,width,color,border_width) :\n",
    "        self.length = length\n",
    "        self.width = width\n",
    "        super().__init__(color,border_width)\n",
    "\n",
    "    def rectangle_detail(self) :\n",
    "        print(\"Color of the rectangle is {} and the width of the border is {}\".format(self.color,self.border_width))\n",
    "        print(\"Area of the rectangle is {}\".format(self.length*self.width))\n",
    "        \n",
    "class Circle(Shape) :\n",
    "    def __init__(self,radius,color,border_width) :\n",
    "        self.radius = radius\n",
    "        super().__init__(color,border_width)\n",
    "\n",
    "    def circle_detail(self) :\n",
    "        print(\"Color of the square is {}\".format(self.color))\n",
    "        print(\"Area of the circle is {}\".format(3.14*self.radius*self.radius))\n",
    "\n",
    "# Creating the rectangle object\n",
    "rectangle1 = Rectangle(2,8,\"Blue\",0.5)\n",
    "rectangle1.rectangle_detail()\n",
    "# Creating the circle object\n",
    "circle1 = Circle(10,\"Red\",\"\")\n",
    "circle1.circle_detail()"
   ]
  },
  {
   "cell_type": "code",
   "execution_count": 15,
   "metadata": {},
   "outputs": [
    {
     "name": "stdout",
     "output_type": "stream",
     "text": [
      "The brand of the phone is Samsung and the model of the phone is S and the screen size is 12.8\n",
      "The brand of the tablet is Redmi and the model of the tablet is G99 and the battery capacity is 2 days\n"
     ]
    }
   ],
   "source": [
    "#Q9:- Create a base class called \"Device\" with attributes like \"brand\" and \"model.\" Derive two classes, \"Phone\" and \"Tablet,\" from \"Device.\" Add specific attributes like \n",
    "# \"screen_size\" for the \"Phone\" class and \"battery_capacity\" for the \"Tablet\" class.\n",
    "#Solution:-\n",
    "class Device :\n",
    "    def __init__(self,brand,model) :\n",
    "        self.brand = brand\n",
    "        self.model = model\n",
    "\n",
    "class Phone(Device) :\n",
    "    def __init__(self,brand,model,screen_size) :\n",
    "        self.screen_size = screen_size\n",
    "        super().__init__(brand,model)\n",
    "\n",
    "    def phone_detail(self) :\n",
    "        print(\"The brand of the phone is {} and the model of the phone is {} and the screen size is {}\".format(self.brand,self.model,self.screen_size))\n",
    "\n",
    "\n",
    "class Tablet(Device) :\n",
    "    def __init__(self,brand,model,battery_capacity) :\n",
    "        self.battery_capacity = battery_capacity\n",
    "        super().__init__(brand,model)\n",
    "\n",
    "    def tablet_detail(self) :\n",
    "        print(\"The brand of the tablet is {} and the model of the tablet is {} and the battery capacity is {}\".format(self.brand,self.model,self.battery_capacity))\n",
    "\n",
    "# Creating the phone object\n",
    "phone1 = Phone(\"Samsung\",\"S\",12.8)\n",
    "phone1.phone_detail()\n",
    "# Creating the tablet object\n",
    "tablet1 = Tablet(\"Redmi\",\"G99\",\"2 days\")\n",
    "tablet1.tablet_detail()"
   ]
  },
  {
   "cell_type": "code",
   "execution_count": 21,
   "metadata": {},
   "outputs": [
    {
     "name": "stdout",
     "output_type": "stream",
     "text": [
      "The intrest 12000.0 if the intrest is 4 percentage and the given time is 30 days\n",
      "Balance after deduction is 4995\n"
     ]
    }
   ],
   "source": [
    "# 10. Create a base class called \"BankAccount\" with attributes like \"account_number\" and \"balance.\" Derive two classes, \"SavingsAccount\" and \"CheckingAccount,\" from \"BankAccount.\" Add specific methods like \"calculate_interest\" for the \n",
    "# \"SavingsAccount\" class and \"deduct_fees\" for the \"CheckingAccount\" class. \n",
    "#Solution:-\n",
    "class BankAccount() :\n",
    "    def __init__(self,acc_number,balance) :\n",
    "        self.acc_number = acc_number\n",
    "        self.balance = balance\n",
    "\n",
    "class SavingsAccount(BankAccount) :\n",
    "    def __init__(self,acc_number,balance) :\n",
    "        super().__init__(acc_number,balance)\n",
    "\n",
    "    def calc_intrest(self) :\n",
    "        Interest_rate = int(input())\n",
    "        Time = int(input())\n",
    "\n",
    "        intrest = self.balance*0.01*Interest_rate*Time\n",
    "        print(\"The intrest {} if the intrest is {} percentage and the given time is {} days\".format(intrest,Interest_rate,Time))\n",
    "\n",
    "class CheckingAccount (BankAccount) :\n",
    "    def __init__(self,acc_number,balance) :\n",
    "        super().__init__(acc_number,balance)\n",
    "    \n",
    "    def deduct_fees(self) :\n",
    "        deductfees = 5\n",
    "        print(\"Balance after deduction is {}\".format(self.balance-deductfees))\n",
    "\n",
    "# Creating the SavingsAccount object\n",
    "savingsaccount1 = SavingsAccount(\"123456\",10000)\n",
    "savingsaccount1.calc_intrest()\n",
    "# Creating the CheckingAccount object\n",
    "checkingaccount1 = CheckingAccount(\"456789\",5000)\n",
    "checkingaccount1.deduct_fees()"
   ]
  }
 ],
 "metadata": {
  "kernelspec": {
   "display_name": "Python 3",
   "language": "python",
   "name": "python3"
  },
  "language_info": {
   "codemirror_mode": {
    "name": "ipython",
    "version": 3
   },
   "file_extension": ".py",
   "mimetype": "text/x-python",
   "name": "python",
   "nbconvert_exporter": "python",
   "pygments_lexer": "ipython3",
   "version": "3.11.4"
  },
  "orig_nbformat": 4
 },
 "nbformat": 4,
 "nbformat_minor": 2
}
